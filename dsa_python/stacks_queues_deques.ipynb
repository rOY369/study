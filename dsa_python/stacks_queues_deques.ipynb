{
 "cells": [
  {
   "attachments": {},
   "cell_type": "markdown",
   "metadata": {},
   "source": [
    "# Stacks\n",
    "\n",
    "## Definition \n",
    "\n",
    "- Collection of objects inserted and removed according to last-in-first-out (LIFO) principle\n",
    "- A user may insert objects into a stack at any time but may only access the most recently inserted object that remains at the top of stack.\n",
    "\n",
    "## Examples\n",
    "\n",
    "- Web browsers storing the recently opened web addresses in a stack to implement the back button functionality\n",
    "- Undo mechanism in text editors\n",
    "- Validation of arithmetic expressions and HTML by testing of matching pairs of delimiters\n",
    "\n",
    "## ADT\n",
    "\n",
    "A stack ADT with an instance S will support the following methods\n",
    "\n",
    "- S.push(e): Adds the element e on top of stack\n",
    "- S.pop(): Removes and returns the top element. Error occurs if stack is empty\n",
    "\n",
    "Accessor methods\n",
    "\n",
    "- S.top(): Returns a reference to top element without removing it. Error occurs if stack is empty.\n",
    "- S.is_empty(): Returns True if stack does not contain any elements. Otherwise False.\n",
    "- len(S): Returns number of elements in the stack\n",
    "\n"
   ]
  },
  {
   "cell_type": "code",
   "execution_count": 1,
   "metadata": {},
   "outputs": [],
   "source": [
    "class Empty(Exception):\n",
    "    \"\"\"Error attempting to access an element from an empty container.\"\"\"\n",
    "\n",
    "    pass\n",
    "\n",
    "\n",
    "class ArrayStack:\n",
    "    def __init__(self):\n",
    "        self._array = []\n",
    "\n",
    "    def push(self, element):\n",
    "        self._array.append(element)\n",
    "\n",
    "    def pop(self):\n",
    "        if self.is_empty():\n",
    "            raise Empty\n",
    "        return self._array.pop()\n",
    "\n",
    "    def top(self):\n",
    "        if self.is_empty():\n",
    "            raise Empty\n",
    "        return self._array[-1]\n",
    "\n",
    "    def is_empty(self):\n",
    "        return len(self._array) == 0\n",
    "\n",
    "    def __len__(self):\n",
    "        return len(self._array)"
   ]
  },
  {
   "attachments": {},
   "cell_type": "markdown",
   "metadata": {},
   "source": [
    "## Analysing ArrayStack Implementation\n",
    "\n",
    "- The implementations for top(), is_empty() and len take constant time in the worst case.\n",
    "- push() and pop() also take O(1) time which is amortized bound.\n",
    "  - A typical call to either of these methods will take constant time but there is an occasionally an O(n) time worst case where an operation causes the list to resize its internal array.\n",
    "\n",
    "### Avoiding Amortization by Reserving Capacity\n",
    "\n",
    "- TODO\n",
    "\n",
    "## More examples\n",
    "\n",
    "- A stack can be used as a general tool to reverse a data sequence. For example : we might want to print lines of a file in a reverse.\n",
    "- For testing pairs of matching delimiters\n",
    "  - Validating an arithmetic expression\n",
    "  - Validing HTML"
   ]
  },
  {
   "cell_type": "code",
   "execution_count": 2,
   "metadata": {},
   "outputs": [],
   "source": [
    "def reverse_file(filename):\n",
    "    stack = ArrayStack()\n",
    "    with open(filename) as f:\n",
    "        for line in f:\n",
    "            line = line.rstrip(\"\\n\")\n",
    "            stack.push(line)\n",
    "\n",
    "    with open(filename, \"w\") as f:\n",
    "        while not stack.is_empty():\n",
    "            f.write(stack.pop() + \"\\n\")"
   ]
  },
  {
   "cell_type": "code",
   "execution_count": 3,
   "metadata": {},
   "outputs": [],
   "source": [
    "# TODO : Reversing elements within a stack"
   ]
  },
  {
   "cell_type": "code",
   "execution_count": 4,
   "metadata": {},
   "outputs": [
    {
     "data": {
      "text/plain": [
       "True"
      ]
     },
     "execution_count": 4,
     "metadata": {},
     "output_type": "execute_result"
    }
   ],
   "source": [
    "# O(n)\n",
    "def validate_expr(expr):\n",
    "    pairs = {\"}\": \"{\", \"]\": \"[\", \")\": \"(\"}\n",
    "    closing = list(pairs.keys())\n",
    "    opening = list(pairs.values())\n",
    "\n",
    "    stack = ArrayStack()\n",
    "\n",
    "    # O(n)\n",
    "    for char in expr:\n",
    "        if char in opening:\n",
    "            # O(1)\n",
    "            stack.push(char)\n",
    "\n",
    "        elif char in closing:\n",
    "            # O(1)\n",
    "            if stack.is_empty():\n",
    "                return False\n",
    "            else:\n",
    "                # O(1)\n",
    "                if stack.pop() != pairs[char]:\n",
    "                    return False\n",
    "\n",
    "    return True\n",
    "\n",
    "\n",
    "validate_expr(\"(5+5)(((((()))))){}{}{}{}{}{}{}{}{{{{{{{{22+22}}}}}}}}[]\")"
   ]
  },
  {
   "cell_type": "code",
   "execution_count": 13,
   "metadata": {},
   "outputs": [
    {
     "data": {
      "text/plain": [
       "False"
      ]
     },
     "execution_count": 13,
     "metadata": {},
     "output_type": "execute_result"
    }
   ],
   "source": [
    "def validate_html(html):\n",
    "    tag_start = html.find(\"<\")\n",
    "    stack = ArrayStack()\n",
    "\n",
    "    while tag_start != -1:\n",
    "        tag_end = html.find(\">\", tag_start)\n",
    "\n",
    "        tag = html[tag_start : tag_end + 1]\n",
    "\n",
    "        if \"/\" not in tag:\n",
    "            stack.push(tag)\n",
    "\n",
    "        else:\n",
    "            if stack.is_empty():\n",
    "                return False\n",
    "            else:\n",
    "                if tag != \"</\" + stack.pop()[2:]:\n",
    "                    return False\n",
    "\n",
    "        tag_start = html.find(\"<\", tag_end)\n",
    "\n",
    "    return True\n",
    "\n",
    "\n",
    "with open(\"html.txt\") as f:\n",
    "    html = f.read()\n",
    "\n",
    "\n",
    "validate_html(html)"
   ]
  },
  {
   "attachments": {},
   "cell_type": "markdown",
   "metadata": {},
   "source": [
    "# Queues"
   ]
  }
 ],
 "metadata": {
  "kernelspec": {
   "display_name": "Python 3",
   "language": "python",
   "name": "python3"
  },
  "language_info": {
   "codemirror_mode": {
    "name": "ipython",
    "version": 3
   },
   "file_extension": ".py",
   "mimetype": "text/x-python",
   "name": "python",
   "nbconvert_exporter": "python",
   "pygments_lexer": "ipython3",
   "version": "3.10.6"
  },
  "orig_nbformat": 4
 },
 "nbformat": 4,
 "nbformat_minor": 2
}
